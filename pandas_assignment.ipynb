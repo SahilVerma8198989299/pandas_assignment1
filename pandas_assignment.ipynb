{
 "cells": [
  {
   "cell_type": "markdown",
   "id": "c9a2f83c-7c81-4719-b9ac-109b6f3c38a3",
   "metadata": {},
   "source": [
    "Q1. Create a Pandas Series that contains the following data: 4, 8, 15, 16, 23, and 42. Then, print the series."
   ]
  },
  {
   "cell_type": "code",
   "execution_count": 1,
   "id": "7802f84f-d268-47ce-b990-9edf1c1df365",
   "metadata": {},
   "outputs": [],
   "source": [
    "import pandas as pd"
   ]
  },
  {
   "cell_type": "code",
   "execution_count": 3,
   "id": "56709737-d73d-46fe-8c54-65b2866f8cb0",
   "metadata": {},
   "outputs": [
    {
     "data": {
      "text/plain": [
       "0     4\n",
       "1     8\n",
       "2    15\n",
       "3    16\n",
       "4    23\n",
       "5    42\n",
       "dtype: int64"
      ]
     },
     "execution_count": 3,
     "metadata": {},
     "output_type": "execute_result"
    }
   ],
   "source": [
    "se=pd.Series([4,8,15,16,23,42])\n",
    "se"
   ]
  },
  {
   "cell_type": "markdown",
   "id": "2bdb79bf-8de1-4201-bdc4-477817bb3b2d",
   "metadata": {},
   "source": [
    "Q2. Create a variable of list type containing 10 elements in it, and apply pandas.Series function on the\n",
    "variable print it."
   ]
  },
  {
   "cell_type": "code",
   "execution_count": 4,
   "id": "1ae770d6-f87b-45c0-89ab-5a07c18311f5",
   "metadata": {},
   "outputs": [
    {
     "data": {
      "text/plain": [
       "0     1\n",
       "1     2\n",
       "2     3\n",
       "3     4\n",
       "4     5\n",
       "5     6\n",
       "6     7\n",
       "7     8\n",
       "8     9\n",
       "9    10\n",
       "dtype: int64"
      ]
     },
     "execution_count": 4,
     "metadata": {},
     "output_type": "execute_result"
    }
   ],
   "source": [
    "li=[1,2,3,4,5,6,7,8,9,10]\n",
    "se=pd.Series(li)\n",
    "se"
   ]
  },
  {
   "cell_type": "markdown",
   "id": "79c3c6bd-cb23-4c61-9f97-b5ee86571d4d",
   "metadata": {},
   "source": [
    "Q3. Create a Pandas DataFrame that contains the following data:"
   ]
  },
  {
   "cell_type": "code",
   "execution_count": 7,
   "id": "1fe91654-3b6f-4d92-9d19-f43e55d0cc81",
   "metadata": {},
   "outputs": [
    {
     "data": {
      "text/html": [
       "<div>\n",
       "<style scoped>\n",
       "    .dataframe tbody tr th:only-of-type {\n",
       "        vertical-align: middle;\n",
       "    }\n",
       "\n",
       "    .dataframe tbody tr th {\n",
       "        vertical-align: top;\n",
       "    }\n",
       "\n",
       "    .dataframe thead th {\n",
       "        text-align: right;\n",
       "    }\n",
       "</style>\n",
       "<table border=\"1\" class=\"dataframe\">\n",
       "  <thead>\n",
       "    <tr style=\"text-align: right;\">\n",
       "      <th></th>\n",
       "      <th>Name</th>\n",
       "      <th>Age</th>\n",
       "      <th>Gender</th>\n",
       "    </tr>\n",
       "  </thead>\n",
       "  <tbody>\n",
       "    <tr>\n",
       "      <th>0</th>\n",
       "      <td>Alice</td>\n",
       "      <td>25</td>\n",
       "      <td>female</td>\n",
       "    </tr>\n",
       "    <tr>\n",
       "      <th>1</th>\n",
       "      <td>Bob</td>\n",
       "      <td>30</td>\n",
       "      <td>male</td>\n",
       "    </tr>\n",
       "    <tr>\n",
       "      <th>2</th>\n",
       "      <td>Claire</td>\n",
       "      <td>27</td>\n",
       "      <td>female</td>\n",
       "    </tr>\n",
       "  </tbody>\n",
       "</table>\n",
       "</div>"
      ],
      "text/plain": [
       "     Name  Age  Gender\n",
       "0   Alice   25  female\n",
       "1     Bob   30    male\n",
       "2  Claire   27  female"
      ]
     },
     "execution_count": 7,
     "metadata": {},
     "output_type": "execute_result"
    }
   ],
   "source": [
    "df= pd.DataFrame({'Name': ['Alice', 'Bob', 'Claire'],'Age':[25,30,27], 'Gender':['female', 'male', 'female']})\n",
    "df"
   ]
  },
  {
   "cell_type": "markdown",
   "id": "9f8d5377-6adb-4c88-b17c-05ffdcd92804",
   "metadata": {},
   "source": [
    "Q4. What is ‘DataFrame’ in pandas and how is it different from pandas.series? Explain with an example."
   ]
  },
  {
   "cell_type": "markdown",
   "id": "1379da1c-f9e4-41c1-975d-4772c0167fe1",
   "metadata": {},
   "source": [
    "DATA FRAME= Pandas DataFrame is two-dimensional size-mutable, potentially heterogeneous tabular data structure with labeled axes (rows and columns). A Data frame is a two-dimensional data structure, i.e., data is aligned in a tabular fashion in rows and columns. Pandas DataFrame consists of three principal components, the data, rows, and columns."
   ]
  },
  {
   "cell_type": "markdown",
   "id": "bad3bacf-f502-44e6-987b-d3d23eb2d3ff",
   "metadata": {},
   "source": [
    "dataframe is different from series:-\n",
    " Pandas Series is a one-dimensional labeled array whose object size cannot be changed. You can also see it as the primary building block for a DataFrame, making up its rows and columns.Pandas DataFrame, on the other hand, is a two-dimensional structure with columns and rows whose size can be changed. You can also think of it as a dictionary of Series objects. "
   ]
  },
  {
   "cell_type": "code",
   "execution_count": 9,
   "id": "d1cf0e57-6299-44d0-9d3e-209ba992f6bd",
   "metadata": {},
   "outputs": [
    {
     "name": "stdout",
     "output_type": "stream",
     "text": [
      "0     1\n",
      "1     2\n",
      "2     3\n",
      "3     4\n",
      "4     5\n",
      "5     6\n",
      "6     7\n",
      "7     8\n",
      "8     9\n",
      "9    10\n",
      "dtype: int64\n",
      "     Name  Age  Gender\n",
      "0   Alice   25  female\n",
      "1     Bob   30    male\n",
      "2  Claire   27  female\n"
     ]
    }
   ],
   "source": [
    "#example:\n",
    "#series :\n",
    "li=[1,2,3,4,5,6,7,8,9,10]\n",
    "se=pd.Series(li)\n",
    "print(se)\n",
    "#dataframe :\n",
    "df= pd.DataFrame({'Name': ['Alice', 'Bob', 'Claire'],'Age':[25,30,27], 'Gender':['female', 'male', 'female']})\n",
    "print(df)"
   ]
  },
  {
   "cell_type": "markdown",
   "id": "109a59b3-def9-4337-9101-437f7cd7d232",
   "metadata": {},
   "source": [
    "Q5. What are some common functions you can use to manipulate data in a Pandas DataFrame? Can\n",
    "you give an example of when you might use one of these functions?"
   ]
  },
  {
   "cell_type": "markdown",
   "id": "8104bdd8-b268-4dab-a599-5a67c2c7b44d",
   "metadata": {},
   "source": [
    "Pandas offers a wide range of functions to manipulate data in a DataFrame. Here are some common ones:\n",
    "\n",
    "Filtering: You can filter rows based on conditions using df[df['column_name'] condition]. For example, df[df['age'] > 25] filters the DataFrame to include only rows where the 'age' column value is greater than 25.\n",
    "\n",
    "Sorting: You can sort the DataFrame by one or more columns using df.sort_values('column_name'). For example, df.sort_values('age') sorts the DataFrame by the 'age' column.\n",
    "\n",
    "Grouping: You can group data based on one or more columns using df.groupby('column_name'). For example, df.groupby('city').mean() groups the data by the 'city' column and calculates the mean for each group.\n",
    "\n",
    "Aggregation: You can perform aggregation functions like sum, mean, count, etc., on grouped data using grouped_df.agg({'column_name': 'function'}). For example, grouped_df.agg({'sales': 'sum'}) calculates the sum of the 'sales' column for each group.\n",
    "\n",
    "Joining: You can join two DataFrames based on a common column using pd.merge(df1, df2, on='column_name'). For example, pd.merge(df1, df2, on='id') joins df1 and df2 based on the 'id' column.\n",
    "\n",
    "Pivoting: You can pivot the DataFrame to reshape the data using df.pivot(index='index_column', columns='column_name', values='value_column'). For example, df.pivot(index='date', columns='city', values='temperature') pivots the DataFrame to have 'date' as index, 'city' as columns, and 'temperature' as values."
   ]
  },
  {
   "cell_type": "markdown",
   "id": "68283886-f7c4-4ae5-8592-ffefbf5bbadb",
   "metadata": {},
   "source": [
    "Q6. Which of the following is mutable in nature Series, DataFrame, Panel?"
   ]
  },
  {
   "cell_type": "markdown",
   "id": "c97c9dbb-a748-47c0-a1fc-ab78b1e29199",
   "metadata": {},
   "source": [
    "In Pandas, both Series and DataFrame are mutable, meaning you can change their values after they have been created. However, Panel objects are considered deprecated and have been removed from the library as of version 0.25.0. It's recommended to use MultiIndex DataFrames or xarray as alternatives for handling three-dimensional data."
   ]
  },
  {
   "cell_type": "markdown",
   "id": "51b0feaf-2847-4d6c-abc0-a0fcf5781a77",
   "metadata": {},
   "source": [
    "Q7. Create a DataFrame using multiple Series. Explain with an example."
   ]
  },
  {
   "cell_type": "code",
   "execution_count": 10,
   "id": "5411fafe-d573-462c-a376-2d41cca3bc12",
   "metadata": {},
   "outputs": [
    {
     "name": "stdout",
     "output_type": "stream",
     "text": [
      "   Column1  Column2     Column3\n",
      "0        1       10       apple\n",
      "1        2       20      banana\n",
      "2        3       30      cherry\n",
      "3        4       40        date\n",
      "4        5       50  elderberry\n"
     ]
    }
   ],
   "source": [
    "# Creating Series\n",
    "s1 = pd.Series([1, 2, 3, 4, 5], name='A')\n",
    "s2 = pd.Series([10, 20, 30, 40, 50], name='B')\n",
    "s3 = pd.Series(['apple', 'banana', 'cherry', 'date', 'elderberry'], name='C')\n",
    "\n",
    "# Creating DataFrame using the Series\n",
    "df = pd.DataFrame({'Column1': s1, 'Column2': s2, 'Column3': s3})\n",
    "\n",
    "# Displaying the DataFrame\n",
    "print(df)"
   ]
  },
  {
   "cell_type": "code",
   "execution_count": null,
   "id": "5070e5ee-eb51-464b-8ce1-ff5c401b20ea",
   "metadata": {},
   "outputs": [],
   "source": []
  }
 ],
 "metadata": {
  "kernelspec": {
   "display_name": "Python 3 (ipykernel)",
   "language": "python",
   "name": "python3"
  },
  "language_info": {
   "codemirror_mode": {
    "name": "ipython",
    "version": 3
   },
   "file_extension": ".py",
   "mimetype": "text/x-python",
   "name": "python",
   "nbconvert_exporter": "python",
   "pygments_lexer": "ipython3",
   "version": "3.11.7"
  }
 },
 "nbformat": 4,
 "nbformat_minor": 5
}
